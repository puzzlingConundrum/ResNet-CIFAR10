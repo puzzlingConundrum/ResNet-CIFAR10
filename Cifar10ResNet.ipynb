{
  "nbformat": 4,
  "nbformat_minor": 0,
  "metadata": {
    "colab": {
      "name": "Cifar10ResNet.ipynb",
      "provenance": [],
      "collapsed_sections": [],
      "include_colab_link": true
    },
    "kernelspec": {
      "name": "python3",
      "display_name": "Python 3"
    },
    "language_info": {
      "name": "python"
    },
    "accelerator": "GPU",
    "widgets": {
      "application/vnd.jupyter.widget-state+json": {
        "dbb3f5685a3c4026bfbba6a2030f01b7": {
          "model_module": "@jupyter-widgets/controls",
          "model_name": "HBoxModel",
          "model_module_version": "1.5.0",
          "state": {
            "_dom_classes": [],
            "_model_module": "@jupyter-widgets/controls",
            "_model_module_version": "1.5.0",
            "_model_name": "HBoxModel",
            "_view_count": null,
            "_view_module": "@jupyter-widgets/controls",
            "_view_module_version": "1.5.0",
            "_view_name": "HBoxView",
            "box_style": "",
            "children": [
              "IPY_MODEL_313c12b7754a48d497533b94405e5762",
              "IPY_MODEL_c5e466a415254ae79d0ea504c53b8d87",
              "IPY_MODEL_2e79b9028fff41d7b39e166b09664a2f"
            ],
            "layout": "IPY_MODEL_b50574550bdb4f7cb974bf26acb8a495"
          }
        },
        "313c12b7754a48d497533b94405e5762": {
          "model_module": "@jupyter-widgets/controls",
          "model_name": "HTMLModel",
          "model_module_version": "1.5.0",
          "state": {
            "_dom_classes": [],
            "_model_module": "@jupyter-widgets/controls",
            "_model_module_version": "1.5.0",
            "_model_name": "HTMLModel",
            "_view_count": null,
            "_view_module": "@jupyter-widgets/controls",
            "_view_module_version": "1.5.0",
            "_view_name": "HTMLView",
            "description": "",
            "description_tooltip": null,
            "layout": "IPY_MODEL_47f92cf9be7a448ab4e1744212580081",
            "placeholder": "​",
            "style": "IPY_MODEL_1668041f840e401e874c0505897aae22",
            "value": ""
          }
        },
        "c5e466a415254ae79d0ea504c53b8d87": {
          "model_module": "@jupyter-widgets/controls",
          "model_name": "FloatProgressModel",
          "model_module_version": "1.5.0",
          "state": {
            "_dom_classes": [],
            "_model_module": "@jupyter-widgets/controls",
            "_model_module_version": "1.5.0",
            "_model_name": "FloatProgressModel",
            "_view_count": null,
            "_view_module": "@jupyter-widgets/controls",
            "_view_module_version": "1.5.0",
            "_view_name": "ProgressView",
            "bar_style": "success",
            "description": "",
            "description_tooltip": null,
            "layout": "IPY_MODEL_2592d79562b94ffeaf684c5a26f3f073",
            "max": 170498071,
            "min": 0,
            "orientation": "horizontal",
            "style": "IPY_MODEL_1a4955806b2e4fb1903c64ea25a9869d",
            "value": 170498071
          }
        },
        "2e79b9028fff41d7b39e166b09664a2f": {
          "model_module": "@jupyter-widgets/controls",
          "model_name": "HTMLModel",
          "model_module_version": "1.5.0",
          "state": {
            "_dom_classes": [],
            "_model_module": "@jupyter-widgets/controls",
            "_model_module_version": "1.5.0",
            "_model_name": "HTMLModel",
            "_view_count": null,
            "_view_module": "@jupyter-widgets/controls",
            "_view_module_version": "1.5.0",
            "_view_name": "HTMLView",
            "description": "",
            "description_tooltip": null,
            "layout": "IPY_MODEL_956cf858626f4bba89874fb9655492d4",
            "placeholder": "​",
            "style": "IPY_MODEL_a2c79ab2e30f4d2f8b323c4d57e06ff3",
            "value": " 170499072/? [00:02&lt;00:00, 91556531.86it/s]"
          }
        },
        "b50574550bdb4f7cb974bf26acb8a495": {
          "model_module": "@jupyter-widgets/base",
          "model_name": "LayoutModel",
          "model_module_version": "1.2.0",
          "state": {
            "_model_module": "@jupyter-widgets/base",
            "_model_module_version": "1.2.0",
            "_model_name": "LayoutModel",
            "_view_count": null,
            "_view_module": "@jupyter-widgets/base",
            "_view_module_version": "1.2.0",
            "_view_name": "LayoutView",
            "align_content": null,
            "align_items": null,
            "align_self": null,
            "border": null,
            "bottom": null,
            "display": null,
            "flex": null,
            "flex_flow": null,
            "grid_area": null,
            "grid_auto_columns": null,
            "grid_auto_flow": null,
            "grid_auto_rows": null,
            "grid_column": null,
            "grid_gap": null,
            "grid_row": null,
            "grid_template_areas": null,
            "grid_template_columns": null,
            "grid_template_rows": null,
            "height": null,
            "justify_content": null,
            "justify_items": null,
            "left": null,
            "margin": null,
            "max_height": null,
            "max_width": null,
            "min_height": null,
            "min_width": null,
            "object_fit": null,
            "object_position": null,
            "order": null,
            "overflow": null,
            "overflow_x": null,
            "overflow_y": null,
            "padding": null,
            "right": null,
            "top": null,
            "visibility": null,
            "width": null
          }
        },
        "47f92cf9be7a448ab4e1744212580081": {
          "model_module": "@jupyter-widgets/base",
          "model_name": "LayoutModel",
          "model_module_version": "1.2.0",
          "state": {
            "_model_module": "@jupyter-widgets/base",
            "_model_module_version": "1.2.0",
            "_model_name": "LayoutModel",
            "_view_count": null,
            "_view_module": "@jupyter-widgets/base",
            "_view_module_version": "1.2.0",
            "_view_name": "LayoutView",
            "align_content": null,
            "align_items": null,
            "align_self": null,
            "border": null,
            "bottom": null,
            "display": null,
            "flex": null,
            "flex_flow": null,
            "grid_area": null,
            "grid_auto_columns": null,
            "grid_auto_flow": null,
            "grid_auto_rows": null,
            "grid_column": null,
            "grid_gap": null,
            "grid_row": null,
            "grid_template_areas": null,
            "grid_template_columns": null,
            "grid_template_rows": null,
            "height": null,
            "justify_content": null,
            "justify_items": null,
            "left": null,
            "margin": null,
            "max_height": null,
            "max_width": null,
            "min_height": null,
            "min_width": null,
            "object_fit": null,
            "object_position": null,
            "order": null,
            "overflow": null,
            "overflow_x": null,
            "overflow_y": null,
            "padding": null,
            "right": null,
            "top": null,
            "visibility": null,
            "width": null
          }
        },
        "1668041f840e401e874c0505897aae22": {
          "model_module": "@jupyter-widgets/controls",
          "model_name": "DescriptionStyleModel",
          "model_module_version": "1.5.0",
          "state": {
            "_model_module": "@jupyter-widgets/controls",
            "_model_module_version": "1.5.0",
            "_model_name": "DescriptionStyleModel",
            "_view_count": null,
            "_view_module": "@jupyter-widgets/base",
            "_view_module_version": "1.2.0",
            "_view_name": "StyleView",
            "description_width": ""
          }
        },
        "2592d79562b94ffeaf684c5a26f3f073": {
          "model_module": "@jupyter-widgets/base",
          "model_name": "LayoutModel",
          "model_module_version": "1.2.0",
          "state": {
            "_model_module": "@jupyter-widgets/base",
            "_model_module_version": "1.2.0",
            "_model_name": "LayoutModel",
            "_view_count": null,
            "_view_module": "@jupyter-widgets/base",
            "_view_module_version": "1.2.0",
            "_view_name": "LayoutView",
            "align_content": null,
            "align_items": null,
            "align_self": null,
            "border": null,
            "bottom": null,
            "display": null,
            "flex": null,
            "flex_flow": null,
            "grid_area": null,
            "grid_auto_columns": null,
            "grid_auto_flow": null,
            "grid_auto_rows": null,
            "grid_column": null,
            "grid_gap": null,
            "grid_row": null,
            "grid_template_areas": null,
            "grid_template_columns": null,
            "grid_template_rows": null,
            "height": null,
            "justify_content": null,
            "justify_items": null,
            "left": null,
            "margin": null,
            "max_height": null,
            "max_width": null,
            "min_height": null,
            "min_width": null,
            "object_fit": null,
            "object_position": null,
            "order": null,
            "overflow": null,
            "overflow_x": null,
            "overflow_y": null,
            "padding": null,
            "right": null,
            "top": null,
            "visibility": null,
            "width": null
          }
        },
        "1a4955806b2e4fb1903c64ea25a9869d": {
          "model_module": "@jupyter-widgets/controls",
          "model_name": "ProgressStyleModel",
          "model_module_version": "1.5.0",
          "state": {
            "_model_module": "@jupyter-widgets/controls",
            "_model_module_version": "1.5.0",
            "_model_name": "ProgressStyleModel",
            "_view_count": null,
            "_view_module": "@jupyter-widgets/base",
            "_view_module_version": "1.2.0",
            "_view_name": "StyleView",
            "bar_color": null,
            "description_width": ""
          }
        },
        "956cf858626f4bba89874fb9655492d4": {
          "model_module": "@jupyter-widgets/base",
          "model_name": "LayoutModel",
          "model_module_version": "1.2.0",
          "state": {
            "_model_module": "@jupyter-widgets/base",
            "_model_module_version": "1.2.0",
            "_model_name": "LayoutModel",
            "_view_count": null,
            "_view_module": "@jupyter-widgets/base",
            "_view_module_version": "1.2.0",
            "_view_name": "LayoutView",
            "align_content": null,
            "align_items": null,
            "align_self": null,
            "border": null,
            "bottom": null,
            "display": null,
            "flex": null,
            "flex_flow": null,
            "grid_area": null,
            "grid_auto_columns": null,
            "grid_auto_flow": null,
            "grid_auto_rows": null,
            "grid_column": null,
            "grid_gap": null,
            "grid_row": null,
            "grid_template_areas": null,
            "grid_template_columns": null,
            "grid_template_rows": null,
            "height": null,
            "justify_content": null,
            "justify_items": null,
            "left": null,
            "margin": null,
            "max_height": null,
            "max_width": null,
            "min_height": null,
            "min_width": null,
            "object_fit": null,
            "object_position": null,
            "order": null,
            "overflow": null,
            "overflow_x": null,
            "overflow_y": null,
            "padding": null,
            "right": null,
            "top": null,
            "visibility": null,
            "width": null
          }
        },
        "a2c79ab2e30f4d2f8b323c4d57e06ff3": {
          "model_module": "@jupyter-widgets/controls",
          "model_name": "DescriptionStyleModel",
          "model_module_version": "1.5.0",
          "state": {
            "_model_module": "@jupyter-widgets/controls",
            "_model_module_version": "1.5.0",
            "_model_name": "DescriptionStyleModel",
            "_view_count": null,
            "_view_module": "@jupyter-widgets/base",
            "_view_module_version": "1.2.0",
            "_view_name": "StyleView",
            "description_width": ""
          }
        }
      }
    }
  },
  "cells": [
    {
      "cell_type": "markdown",
      "metadata": {
        "id": "view-in-github",
        "colab_type": "text"
      },
      "source": [
        "<a href=\"https://colab.research.google.com/github/puzzlingConundrum/ResNet-CIFAR10/blob/main/Cifar10ResNet.ipynb\" target=\"_parent\"><img src=\"https://colab.research.google.com/assets/colab-badge.svg\" alt=\"Open In Colab\"/></a>"
      ]
    },
    {
      "cell_type": "markdown",
      "source": [
        "# Background\n",
        "We will implement a ResNet from scratch and test it on the CIFAR-10 Dataset. The ResNet is a neural network architecture proposed as a solution to the learning degradation problem wherein adding more layers to a network increases the model's performance up to a certain point, but adding even more layers after that point result in significant performance degredation.\n",
        "\n",
        "# The ResNet Solution\n",
        "If we take a close look at the learning degradation problem, we see that it is a problem that theoretically should not exist: adding more layers to a network should never (theoretically) decrease the network's accuracy. For instance, let's consider a shallow network that models the mapping $N(x)$. Now add the layers $L_1, L_2, \\dots, L_k$ to the network to obtain a deeper network. If the layers $L_1, L_2, \\dots, L_k$ are set to the identity mapping, then the deeper network has exactly the same accuracy as the shallow network. So clearly, an optimal deep network must perform at least as well as the shallow network. But empirically this is the not the case. The solution proposed in the ResNet paper is based on the following hypothesis: **if the mapping we want the network to learn is $H(x)$, then the mapping $H(x)-x$ is actually easier to learn**. Now the new approach is to learn the mapping $F(x) = H(x)-x$ and then output the mapping $F(x)+x = H(x)$ as the output of the network. Empirically, this shows improved performance and is the key idea behind the ResNet.\n",
        "\n"
      ],
      "metadata": {
        "id": "ag71jJ1CKIWt"
      }
    },
    {
      "cell_type": "code",
      "execution_count": 1,
      "metadata": {
        "id": "7ezELnPJkSTT",
        "colab": {
          "base_uri": "https://localhost:8080/"
        },
        "outputId": "b233aef1-baa2-4a78-c309-8a03a60a6a66"
      },
      "outputs": [
        {
          "output_type": "execute_result",
          "data": {
            "text/plain": [
              "<torch._C.Generator at 0x7f8e304ea190>"
            ]
          },
          "metadata": {},
          "execution_count": 1
        }
      ],
      "source": [
        "import os\n",
        "import numpy as np\n",
        "import matplotlib.pyplot as plt\n",
        "import torch\n",
        "import torch.nn as nn\n",
        "import torch.nn.functional as F\n",
        "import torch.utils.data as data\n",
        "import torch.optim as optim\n",
        "import torchvision\n",
        "from torchvision.datasets import CIFAR10\n",
        "from torch.utils.data import DataLoader\n",
        "import torchvision.transforms as transforms\n",
        "\n",
        "torch.manual_seed(0)"
      ]
    },
    {
      "cell_type": "code",
      "source": [
        "from google.colab import drive\n",
        "drive.mount(\"/content/drive\")"
      ],
      "metadata": {
        "colab": {
          "base_uri": "https://localhost:8080/"
        },
        "id": "Y5rjtvEmktKe",
        "outputId": "f49ee2a7-8e66-4fb7-d9a8-53acd5e904ea"
      },
      "execution_count": 2,
      "outputs": [
        {
          "output_type": "stream",
          "name": "stdout",
          "text": [
            "Mounted at /content/drive\n"
          ]
        }
      ]
    },
    {
      "cell_type": "code",
      "source": [
        "transform_train = transforms.Compose(\n",
        "    [\n",
        "        transforms.ToTensor(),\n",
        "        transforms.RandomHorizontalFlip(),\n",
        "        transforms.Normalize((0.4914, 0.4822, 0.4465), (0.2023, 0.1994, 0.2010))\n",
        "    ]\n",
        ")\n",
        "\n",
        "transform_test = transforms.Compose(\n",
        "    [\n",
        "        transforms.ToTensor(),\n",
        "        transforms.Normalize((0.5, 0.5, 0.5), (0.5, 0.5, 0.5))\n",
        "    ]\n",
        ")\n",
        "\n",
        "batch_size = 256\n",
        "train_split = 0.8\n",
        "\n",
        "dataset = CIFAR10(root='./data', train=True, download=True, transform=transform_train)\n",
        "trainloader = DataLoader(dataset, batch_size = batch_size, shuffle=True, drop_last=True)\n",
        "test_dataset = CIFAR10(root='./data', train=False, download=True, transform=transform_test)\n",
        "testset, validset = torch.utils.data.random_split(test_dataset, [int(train_split*len(test_dataset)), len(test_dataset) - int(train_split*len(test_dataset))])\n",
        "validloader = DataLoader(validset, batch_size = batch_size, shuffle=True, drop_last=True)\n",
        "testloader = DataLoader(testset, batch_size = batch_size, shuffle=False, drop_last=True)\n",
        "\n",
        "classes = ('plane', 'car', 'bird', 'cat', 'deer', 'dog', 'frog', 'horse', 'ship', 'truck')"
      ],
      "metadata": {
        "colab": {
          "base_uri": "https://localhost:8080/",
          "height": 101,
          "referenced_widgets": [
            "dbb3f5685a3c4026bfbba6a2030f01b7",
            "313c12b7754a48d497533b94405e5762",
            "c5e466a415254ae79d0ea504c53b8d87",
            "2e79b9028fff41d7b39e166b09664a2f",
            "b50574550bdb4f7cb974bf26acb8a495",
            "47f92cf9be7a448ab4e1744212580081",
            "1668041f840e401e874c0505897aae22",
            "2592d79562b94ffeaf684c5a26f3f073",
            "1a4955806b2e4fb1903c64ea25a9869d",
            "956cf858626f4bba89874fb9655492d4",
            "a2c79ab2e30f4d2f8b323c4d57e06ff3"
          ]
        },
        "id": "TLS3Xg1TkwmF",
        "outputId": "51936b75-a584-4a89-eb48-47ef116ec4b4"
      },
      "execution_count": 3,
      "outputs": [
        {
          "output_type": "stream",
          "name": "stdout",
          "text": [
            "Downloading https://www.cs.toronto.edu/~kriz/cifar-10-python.tar.gz to ./data/cifar-10-python.tar.gz\n"
          ]
        },
        {
          "output_type": "display_data",
          "data": {
            "text/plain": [
              "  0%|          | 0/170498071 [00:00<?, ?it/s]"
            ],
            "application/vnd.jupyter.widget-view+json": {
              "version_major": 2,
              "version_minor": 0,
              "model_id": "dbb3f5685a3c4026bfbba6a2030f01b7"
            }
          },
          "metadata": {}
        },
        {
          "output_type": "stream",
          "name": "stdout",
          "text": [
            "Extracting ./data/cifar-10-python.tar.gz to ./data\n",
            "Files already downloaded and verified\n"
          ]
        }
      ]
    },
    {
      "cell_type": "code",
      "source": [
        "(sample, label) = next(iter(trainloader))\n",
        "\n",
        "fig = plt.figure(figsize=(12,12))\n",
        "for i in range(4):\n",
        "    fig.add_subplot(1, 4, i+1)\n",
        "    plt.imshow(sample[i].permute(1, 2, 0))\n",
        "    plt.title(f\"{classes[label[i]]}\")"
      ],
      "metadata": {
        "colab": {
          "base_uri": "https://localhost:8080/",
          "height": 278
        },
        "id": "VI9_r2ork3vR",
        "outputId": "205acce7-3c6d-4b98-bae9-57108a1adada"
      },
      "execution_count": 4,
      "outputs": [
        {
          "output_type": "stream",
          "name": "stderr",
          "text": [
            "Clipping input data to the valid range for imshow with RGB data ([0..1] for floats or [0..255] for integers).\n",
            "Clipping input data to the valid range for imshow with RGB data ([0..1] for floats or [0..255] for integers).\n",
            "Clipping input data to the valid range for imshow with RGB data ([0..1] for floats or [0..255] for integers).\n",
            "Clipping input data to the valid range for imshow with RGB data ([0..1] for floats or [0..255] for integers).\n"
          ]
        },
        {
          "output_type": "display_data",
          "data": {
            "text/plain": [
              "<Figure size 864x864 with 4 Axes>"
            ],
            "image/png": "[encoded data removed]"
          },
          "metadata": {
            "needs_background": "light"
          }
        }
      ]
    },
    {
      "cell_type": "code",
      "source": [
        "def calc_accuracy(pred, label):\n",
        "    with torch.no_grad():\n",
        "        _, pred2label = pred.max(dim=1)\n",
        "        same = (pred2label == label).float()\n",
        "        accuracy = same.sum().item() / same.numel()\n",
        "    return accuracy"
      ],
      "metadata": {
        "id": "TvlCB5gWu_W5"
      },
      "execution_count": 5,
      "outputs": []
    },
    {
      "cell_type": "markdown",
      "source": [
        "We start by implementing the basic building blocks of the ResNet: the ** ResidualBlock**. \\\\\n",
        "The residual block consist of 2 convolutional layers and a shortcut connection. Going back to the proposed solution in the ResNet paper, the 2 convoutional layers learns the mapping $F(x) = H(x)-x$ and the shortcut connection simply adds the input to the output, giving us $F(x)+x = H(x)$. \\\\\n",
        " ![resid_block.jpg](data:image/jpeg;base64,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) \\\\\n",
        "\n",
        "\n",
        "---\n",
        "\n",
        "\n",
        "In the case that the number of channels change between blocks, the shortcut connection consists of a convoutional layer to match the size of the channels.\n",
        "\n",
        "---\n",
        "\n",
        "The **ResidualChain** class simply consists of multiple **ResidualBlock** chained together into one unit."
      ],
      "metadata": {
        "id": "o40XxlbsOMH4"
      }
    },
    {
      "cell_type": "code",
      "source": [
        "class ResidualBlock(nn.Module):\n",
        "    def __init__(self, in_channels, out_channels, stride=2, upsample=False):\n",
        "        super(ResidualBlock, self).__init__()\n",
        "        self.conv1 = nn.Conv2d(in_channels, out_channels, kernel_size=3, stride=1, padding=1)\n",
        "        self.conv2 = nn.Conv2d(out_channels, out_channels, kernel_size=3, stride=1, padding=1)\n",
        "        self.bn = nn.BatchNorm2d(out_channels)\n",
        "        self.relu = nn.ReLU()\n",
        "        self.shortcut = nn.Identity()\n",
        "        \n",
        "        if (upsample):\n",
        "            self.conv1 = nn.Conv2d(in_channels, out_channels, kernel_size=3, stride=stride, padding=1)\n",
        "            self.shortcut = nn.Sequential(\n",
        "                nn.Conv2d(in_channels, out_channels, kernel_size=3, stride=stride, padding=1),\n",
        "                nn.BatchNorm2d(out_channels)\n",
        "            )\n",
        "\n",
        "    def forward(self, x):\n",
        "        stack = nn.Sequential(\n",
        "            self.conv1,\n",
        "            self.bn,\n",
        "            self.relu,\n",
        "            self.conv2,\n",
        "            self.bn\n",
        "        )\n",
        "        return self.relu(stack(x) + self.shortcut(x))\n",
        "\n",
        "class ResidualChain(nn.Module):\n",
        "    def __init__(self, channels, num_blocks, stride=2, upsample=False):\n",
        "        super(ResidualChain, self).__init__()\n",
        "        layers = []\n",
        "        out_channels = channels\n",
        "        if (upsample):\n",
        "            channels = out_channels // 2\n",
        "        layers.append(ResidualBlock(channels, out_channels, stride, upsample))\n",
        "        for n in range(num_blocks-1):\n",
        "            layers.append(ResidualBlock(out_channels, out_channels))\n",
        "        self.res = nn.Sequential(*layers)\n",
        "\n",
        "    def forward(self, x):\n",
        "        return self.res(x)"
      ],
      "metadata": {
        "id": "7pteroAJlUBR"
      },
      "execution_count": 22,
      "outputs": []
    },
    {
      "cell_type": "markdown",
      "source": [
        "Now we're ready to implement the **ResNet** class. Here, we simply take in a list of the number of blocks in each **ResidualChain** unit and combine them together. This class also takes in a list of the strides used in each ResidualChain. The input is processed by using an initial 2d convolution (parameters specified in the constructor) and then passed through the ResidualChains. Finally, we use average pooling and pass the output through a fully connected layer to obtain the predictions."
      ],
      "metadata": {
        "id": "lYbXDYyLQf5p"
      }
    },
    {
      "cell_type": "code",
      "source": [
        "class ResNet(nn.Module):\n",
        "    def __init__(self, in_channels, size, num_classes, conv1_size, pool, stride, layer_list, init_channels=64):\n",
        "        super(ResNet, self).__init__()\n",
        "        self.layers = []\n",
        "        self.layer_list = layer_list\n",
        "        self.prepool = nn.Sequential()\n",
        "        if (pool):\n",
        "            self.prepool = nn.MaxPool2d(2)\n",
        "        self.relu = nn.ReLU()\n",
        "        self.bn = nn.BatchNorm2d(init_channels)\n",
        "        self.conv1 = nn.Conv2d(in_channels=3, out_channels=init_channels, kernel_size=conv1_size, stride=2, padding=1)\n",
        "        self.channels = init_channels\n",
        "        for idx, l in enumerate(layer_list):\n",
        "            self.layers.append(ResidualChain(init_channels * (2**idx), l, stride[idx], idx > 0))\n",
        "        self.resnet = nn.Sequential(*self.layers)\n",
        "        w, h = size\n",
        "        self.pool = nn.AdaptiveAvgPool2d(1)\n",
        "        self.fc = nn.Linear((init_channels * (2**(len(layer_list)-1))), num_classes)\n",
        "        \n",
        "\n",
        "    def forward(self, x):\n",
        "        x = self.relu(self.bn(self.conv1(x)))\n",
        "        x = self.prepool(x)\n",
        "        z = self.resnet(x)\n",
        "        z = self.pool(z)\n",
        "        z = z.view(-1, self.channels * (2**(len(self.layer_list)-1)))\n",
        "        return self.fc(z)"
      ],
      "metadata": {
        "id": "iM2PEq0-k-cR"
      },
      "execution_count": 27,
      "outputs": []
    },
    {
      "cell_type": "code",
      "source": [
        "device = \"cpu\"\n",
        "if (torch.cuda.is_available()):\n",
        "    device = \"cuda\"\n",
        "model = ResNet(3, (32, 32), 10, conv1_size=3, pool=False, stride=[1,1,1,2], layer_list=[2,2,2,2]).to(device)\n",
        "print(model)\n",
        "\n",
        "NUM_EPOCHS = 30\n",
        "learning_rate = 1e-1\n",
        "criterion = nn.CrossEntropyLoss()\n",
        "optim = torch.optim.SGD(model.parameters(), lr=learning_rate, weight_decay=1e-4, momentum=0.9)\n",
        "scheduler = torch.optim.lr_scheduler.ReduceLROnPlateau(optim, factor=0.5)"
      ],
      "metadata": {
        "colab": {
          "base_uri": "https://localhost:8080/"
        },
        "id": "q8rGExk_G7i3",
        "outputId": "db57ece1-2497-4cc5-81fa-db8e0c64ad35"
      },
      "execution_count": 37,
      "outputs": [
        {
          "output_type": "stream",
          "name": "stdout",
          "text": [
            "ResNet(\n",
            "  (prepool): Sequential()\n",
            "  (relu): ReLU()\n",
            "  (bn): BatchNorm2d(64, eps=1e-05, momentum=0.1, affine=True, track_running_stats=True)\n",
            "  (conv1): Conv2d(3, 64, kernel_size=(3, 3), stride=(2, 2), padding=(1, 1))\n",
            "  (resnet): Sequential(\n",
            "    (0): ResidualChain(\n",
            "      (res): Sequential(\n",
            "        (0): ResidualBlock(\n",
            "          (conv1): Conv2d(64, 64, kernel_size=(3, 3), stride=(1, 1), padding=(1, 1))\n",
            "          (conv2): Conv2d(64, 64, kernel_size=(3, 3), stride=(1, 1), padding=(1, 1))\n",
            "          (bn): BatchNorm2d(64, eps=1e-05, momentum=0.1, affine=True, track_running_stats=True)\n",
            "          (relu): ReLU()\n",
            "          (shortcut): Identity()\n",
            "        )\n",
            "        (1): ResidualBlock(\n",
            "          (conv1): Conv2d(64, 64, kernel_size=(3, 3), stride=(1, 1), padding=(1, 1))\n",
            "          (conv2): Conv2d(64, 64, kernel_size=(3, 3), stride=(1, 1), padding=(1, 1))\n",
            "          (bn): BatchNorm2d(64, eps=1e-05, momentum=0.1, affine=True, track_running_stats=True)\n",
            "          (relu): ReLU()\n",
            "          (shortcut): Identity()\n",
            "        )\n",
            "      )\n",
            "    )\n",
            "    (1): ResidualChain(\n",
            "      (res): Sequential(\n",
            "        (0): ResidualBlock(\n",
            "          (conv1): Conv2d(64, 128, kernel_size=(3, 3), stride=(1, 1), padding=(1, 1))\n",
            "          (conv2): Conv2d(128, 128, kernel_size=(3, 3), stride=(1, 1), padding=(1, 1))\n",
            "          (bn): BatchNorm2d(128, eps=1e-05, momentum=0.1, affine=True, track_running_stats=True)\n",
            "          (relu): ReLU()\n",
            "          (shortcut): Sequential(\n",
            "            (0): Conv2d(64, 128, kernel_size=(3, 3), stride=(1, 1), padding=(1, 1))\n",
            "            (1): BatchNorm2d(128, eps=1e-05, momentum=0.1, affine=True, track_running_stats=True)\n",
            "          )\n",
            "        )\n",
            "        (1): ResidualBlock(\n",
            "          (conv1): Conv2d(128, 128, kernel_size=(3, 3), stride=(1, 1), padding=(1, 1))\n",
            "          (conv2): Conv2d(128, 128, kernel_size=(3, 3), stride=(1, 1), padding=(1, 1))\n",
            "          (bn): BatchNorm2d(128, eps=1e-05, momentum=0.1, affine=True, track_running_stats=True)\n",
            "          (relu): ReLU()\n",
            "          (shortcut): Identity()\n",
            "        )\n",
            "      )\n",
            "    )\n",
            "    (2): ResidualChain(\n",
            "      (res): Sequential(\n",
            "        (0): ResidualBlock(\n",
            "          (conv1): Conv2d(128, 256, kernel_size=(3, 3), stride=(1, 1), padding=(1, 1))\n",
            "          (conv2): Conv2d(256, 256, kernel_size=(3, 3), stride=(1, 1), padding=(1, 1))\n",
            "          (bn): BatchNorm2d(256, eps=1e-05, momentum=0.1, affine=True, track_running_stats=True)\n",
            "          (relu): ReLU()\n",
            "          (shortcut): Sequential(\n",
            "            (0): Conv2d(128, 256, kernel_size=(3, 3), stride=(1, 1), padding=(1, 1))\n",
            "            (1): BatchNorm2d(256, eps=1e-05, momentum=0.1, affine=True, track_running_stats=True)\n",
            "          )\n",
            "        )\n",
            "        (1): ResidualBlock(\n",
            "          (conv1): Conv2d(256, 256, kernel_size=(3, 3), stride=(1, 1), padding=(1, 1))\n",
            "          (conv2): Conv2d(256, 256, kernel_size=(3, 3), stride=(1, 1), padding=(1, 1))\n",
            "          (bn): BatchNorm2d(256, eps=1e-05, momentum=0.1, affine=True, track_running_stats=True)\n",
            "          (relu): ReLU()\n",
            "          (shortcut): Identity()\n",
            "        )\n",
            "      )\n",
            "    )\n",
            "    (3): ResidualChain(\n",
            "      (res): Sequential(\n",
            "        (0): ResidualBlock(\n",
            "          (conv1): Conv2d(256, 512, kernel_size=(3, 3), stride=(2, 2), padding=(1, 1))\n",
            "          (conv2): Conv2d(512, 512, kernel_size=(3, 3), stride=(1, 1), padding=(1, 1))\n",
            "          (bn): BatchNorm2d(512, eps=1e-05, momentum=0.1, affine=True, track_running_stats=True)\n",
            "          (relu): ReLU()\n",
            "          (shortcut): Sequential(\n",
            "            (0): Conv2d(256, 512, kernel_size=(3, 3), stride=(2, 2), padding=(1, 1))\n",
            "            (1): BatchNorm2d(512, eps=1e-05, momentum=0.1, affine=True, track_running_stats=True)\n",
            "          )\n",
            "        )\n",
            "        (1): ResidualBlock(\n",
            "          (conv1): Conv2d(512, 512, kernel_size=(3, 3), stride=(1, 1), padding=(1, 1))\n",
            "          (conv2): Conv2d(512, 512, kernel_size=(3, 3), stride=(1, 1), padding=(1, 1))\n",
            "          (bn): BatchNorm2d(512, eps=1e-05, momentum=0.1, affine=True, track_running_stats=True)\n",
            "          (relu): ReLU()\n",
            "          (shortcut): Identity()\n",
            "        )\n",
            "      )\n",
            "    )\n",
            "  )\n",
            "  (pool): AdaptiveAvgPool2d(output_size=1)\n",
            "  (fc): Linear(in_features=512, out_features=10, bias=True)\n",
            ")\n"
          ]
        }
      ]
    },
    {
      "cell_type": "code",
      "source": [
        "for epoch in range(NUM_EPOCHS):\n",
        "    training_loss = 0.0\n",
        "    training_accuracy_list = []\n",
        "    valid_loss = 0.0\n",
        "    valid_accuracy_list = []\n",
        "\n",
        "    for _, (batch, labels) in enumerate(trainloader):\n",
        "        batch = batch.to(device).float()\n",
        "        labels = labels.to(device)\n",
        "\n",
        "        prediction = model(batch)\n",
        "        loss = criterion(prediction, labels)\n",
        "\n",
        "        optim.zero_grad()\n",
        "        loss.backward()\n",
        "        optim.step()\n",
        "\n",
        "        training_loss += loss.item() * batch.size(0)\n",
        "        training_accuracy_list.append(calc_accuracy(prediction, labels))\n",
        "\n",
        "    with torch.no_grad():\n",
        "        for _, (batch, labels) in enumerate(validloader):\n",
        "            batch = batch.cuda().float()\n",
        "            labels = labels.to(device)\n",
        "\n",
        "            prediction = model(batch)\n",
        "            loss = criterion(prediction, labels)\n",
        "\n",
        "            valid_loss += loss.item() * batch.size(0)\n",
        "            valid_accuracy_list.append(calc_accuracy(prediction, labels))\n",
        "\n",
        "    scheduler.step(valid_loss / len(validset))\n",
        "    \n",
        "    train_acc = sum(training_accuracy_list) / len(training_accuracy_list)\n",
        "    valid_acc = sum(valid_accuracy_list) / len(valid_accuracy_list)\n",
        "    print(f\"epoch {epoch+1}/{NUM_EPOCHS} : training_loss = {training_loss/len(dataset):.4f}, training_acc = {train_acc}, valid_loss = {valid_loss/len(validset):.4f}, valid_acc = {valid_acc}\")\n"
      ],
      "metadata": {
        "colab": {
          "base_uri": "https://localhost:8080/"
        },
        "id": "JmOLaZW-IGe_",
        "outputId": "3b9ae28b-ecbb-4677-e62a-b8a1c1065a19"
      },
      "execution_count": 38,
      "outputs": [
        {
          "output_type": "stream",
          "name": "stdout",
          "text": [
            "epoch 1/30 : training_loss = 1.8507, training_acc = 0.31858974358974357, valid_loss = 1.3564, valid_acc = 0.4453125\n",
            "epoch 2/30 : training_loss = 1.3618, training_acc = 0.4971554487179487, valid_loss = 1.1339, valid_acc = 0.54296875\n",
            "epoch 3/30 : training_loss = 1.1179, training_acc = 0.5921474358974359, valid_loss = 0.9527, valid_acc = 0.6166294642857143\n",
            "epoch 4/30 : training_loss = 0.9306, training_acc = 0.6671474358974359, valid_loss = 0.8313, valid_acc = 0.6852678571428571\n",
            "epoch 5/30 : training_loss = 0.8171, training_acc = 0.7101963141025641, valid_loss = 0.7875, valid_acc = 0.6852678571428571\n",
            "epoch 6/30 : training_loss = 0.7157, training_acc = 0.7493990384615384, valid_loss = 0.6382, valid_acc = 0.7533482142857143\n",
            "epoch 7/30 : training_loss = 0.6307, training_acc = 0.7796274038461538, valid_loss = 0.6166, valid_acc = 0.7739955357142857\n",
            "epoch 8/30 : training_loss = 0.5622, training_acc = 0.8047275641025641, valid_loss = 0.5410, valid_acc = 0.7829241071428571\n",
            "epoch 9/30 : training_loss = 0.5059, training_acc = 0.8222355769230769, valid_loss = 0.5130, valid_acc = 0.8136160714285714\n",
            "epoch 10/30 : training_loss = 0.4717, training_acc = 0.8352964743589744, valid_loss = 0.5130, valid_acc = 0.8018973214285714\n",
            "epoch 11/30 : training_loss = 0.4344, training_acc = 0.8478365384615385, valid_loss = 0.4673, valid_acc = 0.8225446428571429\n",
            "epoch 12/30 : training_loss = 0.3951, training_acc = 0.8628605769230769, valid_loss = 0.5007, valid_acc = 0.8108258928571429\n",
            "epoch 13/30 : training_loss = 0.3695, training_acc = 0.8713741987179487, valid_loss = 0.4533, valid_acc = 0.8286830357142857\n",
            "epoch 14/30 : training_loss = 0.3516, training_acc = 0.8766626602564103, valid_loss = 0.4515, valid_acc = 0.8337053571428571\n",
            "epoch 15/30 : training_loss = 0.3183, training_acc = 0.8885416666666667, valid_loss = 0.4357, valid_acc = 0.8381696428571429\n",
            "epoch 16/30 : training_loss = 0.2989, training_acc = 0.8946314102564102, valid_loss = 0.4175, valid_acc = 0.8409598214285714\n",
            "epoch 17/30 : training_loss = 0.2775, training_acc = 0.9030048076923077, valid_loss = 0.4520, valid_acc = 0.8359375\n",
            "epoch 18/30 : training_loss = 0.2590, training_acc = 0.9087139423076923, valid_loss = 0.3996, valid_acc = 0.8487723214285714\n",
            "epoch 19/30 : training_loss = 0.2347, training_acc = 0.9171875, valid_loss = 0.4215, valid_acc = 0.8510044642857143\n",
            "epoch 20/30 : training_loss = 0.2267, training_acc = 0.9200520833333333, valid_loss = 0.4120, valid_acc = 0.8493303571428571\n",
            "epoch 21/30 : training_loss = 0.2083, training_acc = 0.9253205128205129, valid_loss = 0.4121, valid_acc = 0.8510044642857143\n",
            "epoch 22/30 : training_loss = 0.1921, training_acc = 0.9331330128205129, valid_loss = 0.4222, valid_acc = 0.8521205357142857\n",
            "epoch 23/30 : training_loss = 0.1807, training_acc = 0.9362379807692308, valid_loss = 0.4258, valid_acc = 0.8565848214285714\n",
            "epoch 24/30 : training_loss = 0.1705, training_acc = 0.9407251602564103, valid_loss = 0.4015, valid_acc = 0.86328125\n",
            "epoch 25/30 : training_loss = 0.1530, training_acc = 0.9450320512820513, valid_loss = 0.4256, valid_acc = 0.8537946428571429\n",
            "epoch 26/30 : training_loss = 0.1511, training_acc = 0.946454326923077, valid_loss = 0.4341, valid_acc = 0.8577008928571429\n",
            "epoch 27/30 : training_loss = 0.1364, training_acc = 0.9513822115384616, valid_loss = 0.4214, valid_acc = 0.8638392857142857\n",
            "epoch 28/30 : training_loss = 0.1218, training_acc = 0.9570112179487179, valid_loss = 0.4325, valid_acc = 0.8599330357142857\n",
            "epoch 29/30 : training_loss = 0.1091, training_acc = 0.9621594551282051, valid_loss = 0.4238, valid_acc = 0.86328125\n",
            "epoch 30/30 : training_loss = 0.0516, training_acc = 0.9823918269230769, valid_loss = 0.3799, valid_acc = 0.8883928571428571\n"
          ]
        }
      ]
    },
    {
      "cell_type": "code",
      "source": [
        "test_acc_list = []\n",
        "\n",
        "with torch.no_grad():\n",
        "    for _, (batch, labels) in enumerate(testloader):\n",
        "        batch = batch.cuda().float()\n",
        "        labels =  labels.to(device)\n",
        "\n",
        "        prediction = model(batch)\n",
        "        loss = criterion(prediction, labels)\n",
        "\n",
        "        test_acc_list.append(calc_accuracy(prediction, labels))\n",
        "    test_acc = sum(test_acc_list) / len(test_acc_list)\n",
        "    print(f\"Test Accuracy: {test_acc:.4f}\")"
      ],
      "metadata": {
        "colab": {
          "base_uri": "https://localhost:8080/"
        },
        "id": "YLEFgStqtSY5",
        "outputId": "0e69e1c3-6b51-4731-b2f7-154c5d5a0645"
      },
      "execution_count": 39,
      "outputs": [
        {
          "output_type": "stream",
          "name": "stdout",
          "text": [
            "Test Accuracy: 0.8884\n"
          ]
        }
      ]
    },
    {
      "cell_type": "code",
      "source": [
        "torch.save(model.state_dict(), '/content/drive/My Drive/resnet18.pt')"
      ],
      "metadata": {
        "id": "SBDGyNf0ueMC"
      },
      "execution_count": 49,
      "outputs": []
    }
  ]
}